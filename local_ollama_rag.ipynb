{
 "cells": [
  {
   "cell_type": "markdown",
   "metadata": {},
   "source": [
    "# Ollama PDF RAG Notebook\n",
    "#### Original Project Idea by @Tony Kimpkemboi on Youtube"
   ]
  },
  {
   "cell_type": "markdown",
   "metadata": {},
   "source": [
    "## Import Libraries\n"
   ]
  },
  {
   "cell_type": "code",
   "execution_count": 1,
   "metadata": {},
   "outputs": [],
   "source": [
    "#Imports\n",
    "from langchain_community.document_loaders import UnstructuredPDFLoader\n",
    "from langchain_ollama import OllamaEmbeddings\n",
    "from langchain_text_splitters import RecursiveCharacterTextSplitter\n",
    "from langchain_community.vectorstores import Chroma\n",
    "from langchain.prompts import ChatPromptTemplate, PromptTemplate\n",
    "from langchain_core.output_parsers import StrOutputParser\n",
    "from langchain_ollama.chat_models import ChatOllama\n",
    "from langchain.schema import Document\n",
    "from langchain_core.runnables import RunnablePassthrough\n",
    "from langchain.retrievers.multi_query import MultiQueryRetriever\n",
    "\n",
    "#Suppressing the  warnings\n",
    "import warnings\n",
    "warnings.filterwarnings('ignore')\n",
    "\n",
    "#Jupyter-specific imports\n",
    "from IPython.display import display, Markdown\n",
    "\n",
    "#Set environment variable for the protobuf library to clear common errors\n",
    "import os\n",
    "os.environ[\"PROTOCOL_BUFFERS_PYTHON_IMPLEMENTATION\"] = \"python\""
   ]
  },
  {
   "cell_type": "markdown",
   "metadata": {},
   "source": [
    "## Load PDF"
   ]
  },
  {
   "cell_type": "code",
   "execution_count": 2,
   "metadata": {},
   "outputs": [
    {
     "name": "stdout",
     "output_type": "stream",
     "text": [
      "PDF loaded successfully: transformer-paper.pdf\n"
     ]
    }
   ],
   "source": [
    "#Load the PDF\n",
    "#use transformer pdf, and this will extract the paper and pdf\n",
    "local_path = \"transformer-paper.pdf\"\n",
    "if local_path:\n",
    "    loader = UnstructuredPDFLoader(file_path=local_path)\n",
    "    data = loader.load()\n",
    "    print(f\"PDF loaded successfully: {local_path}\")\n",
    "else:\n",
    "    print(\"Upload a PDF file\")"
   ]
  },
  {
   "cell_type": "markdown",
   "metadata": {},
   "source": [
    "## Split text into chunks"
   ]
  },
  {
   "cell_type": "code",
   "execution_count": 3,
   "metadata": {},
   "outputs": [
    {
     "name": "stdout",
     "output_type": "stream",
     "text": [
      "Text split into 51 chunks\n"
     ]
    }
   ],
   "source": [
    "#Split text into chunks\n",
    "#this uses the RecursiveCharacterTexSplitter\n",
    "text_splitter = RecursiveCharacterTextSplitter(chunk_size=1000, chunk_overlap=200)\n",
    "chunks = text_splitter.split_documents(data)\n",
    "print(f\"Text split into {len(chunks)} chunks\")"
   ]
  },
  {
   "cell_type": "code",
   "execution_count": 4,
   "metadata": {},
   "outputs": [
    {
     "name": "stdout",
     "output_type": "stream",
     "text": [
      "[0.021297751, 0.027801337, -0.1695024, -0.0060646716, 0.082031816, -0.036150075, 0.04433832, -0.010158394, 0.050543383, -0.034639053, 0.00083406776, 0.0592905, 0.045455262, -0.019677855, -0.094772786, -0.055518843, 0.049526308, -0.07056261, 0.004090541, -0.0014088722, 0.003917975, -0.01661441, -0.06654988, 0.007856057, 0.13825926, -0.050003737, -0.05544877, 0.040329337, -0.03442401, -0.017394057, 0.0013502602, -0.008086474, 0.050295394, -0.06049735, -0.036090594, -0.0078342, 0.019494731, 0.054925382, -0.015246182, 0.01627023, 0.05144798, 0.0055783708, 0.019464094, -0.04408677, 0.058690503, 0.0048292917, 0.029791553, 0.047673505, 0.04147772, -0.065289736, -0.060502533, -0.04464156, 0.048503365, 0.00051301694, 0.0363556, 0.021212632, -0.022007087, 0.01666229, 0.014475108, -0.016753413, 0.008460819, 0.011121671, -0.0549261, 0.04463891, 0.0418088, -0.0755826, -0.014451789, 0.0153478375, -0.021024639, 0.023898207, 0.024410984, 0.0006479432, 0.03350522, -0.029317653, -0.025719434, -0.044176243, -0.04115329, -0.032953452, -0.01728932, 0.01961742, 0.051094115, 0.008323265, 0.03257661, 0.025756478, 0.0655836, -0.009578247, -0.026420424, -0.045305982, 0.009195031, 0.05388245, 0.07093443, 0.011385963, 0.053245004, 0.026083868, -0.023207812, 0.04296283, 0.010558707, 0.009038552, -0.008077349, -0.02181349, 0.014380285, 0.007800003, -0.014557356, -0.020595243, -0.0018486324, 0.025469465, 0.0066126557, 0.023166735, -0.023917269, 0.015190677, -0.08462859, 0.08896988, -0.05611666, -0.0028468345, -0.014099017, -0.01196968, 0.03678702, -0.0019432859, -0.019038882, 0.010218098, 0.011601515, 0.06225232, -0.039906986, 0.07561152, -0.06706289, 0.046332356, -0.06728316, 0.07044589, 0.0205649, 0.030286592, -0.009985706, -0.044531204, -0.04054321, -0.0056548957, -0.014474023, -0.010857573, 0.015216032, 0.0040432075, -0.038468275, -0.028614981, -0.003907068, -0.0023859313, -0.016773213, 0.006682007, 0.01879088, -0.029802173, 0.04934283, 0.03184682, -0.022676133, 0.012583148, 0.0011444998, -0.046130177, 0.07388265, -0.015941981, 0.026661625, -0.07195244, -0.009168383, 0.0056889537, 0.01978247, 0.032240514, 0.034816783, 0.0023046348, -0.027214792, 0.022748936, 0.0042039184, -0.09511421, 0.012497531, 0.071309455, 0.052444566, 0.016843636, -0.055573713, -0.087229446, 0.0146715585, -0.027529638, -0.0307534, -0.01393561, 0.028130446, -0.039277893, 0.05250578, -0.02264089, 0.04478238, -0.032472197, 0.051777244, 0.047575377, -0.0033474837, -0.059174947, 0.04570473, -0.013958528, -0.03139867, -0.034575865, -0.014261521, -0.0211158, -0.093528405, -0.04555845, -0.016412634, -0.056219228, 0.053326435, 0.029111382, 0.011429227, -0.026586834, -0.034682143, 0.0044108476, -0.009821699, 0.0074461605, -0.037103683, 0.0055017076, -0.0034917672, -0.028182691, 0.025769202, 2.9262077e-05, 0.053265546, 0.013662433, 0.0070221643, 0.023640223, 0.00071652606, -0.018346041, 0.018275028, -0.05316842, 0.011691228, 0.0040804087, 0.029872246, -0.044934034, -0.025798354, -0.016785016, 0.036693882, -0.002936645, -0.030023001, -0.0049335556, -0.03774134, -0.0041271155, 0.008315413, -0.07344934, 0.02778613, -0.017645678, 0.04019063, 0.0129225645, -0.01809328, 0.027335675, 0.017932646, -0.0024268231, -0.00031349, 0.026435072, 0.0048760627, 0.0015280293, -0.021042854, -0.019501843, -0.006253627, -0.016207404, 0.037338465, 0.034877446, -0.011415605, 0.03466031, -0.012940165, 0.06492764, -0.0027287242, -0.029265098, -0.0013359775, -0.0002935327, 0.043888252, -0.05016855, -0.021385077, -0.036255747, 0.027460245, -0.036218684, -0.014200043, -0.044896454, -0.04723766, -0.051510554, -0.027644442, -0.008079444, 0.0064549367, 0.0061141746, 0.051039036, 0.042336047, 0.042581648, -0.036644246, 0.0041855806, 0.0073722485, 0.0005176035, -0.0010018718, -0.04987088, -0.0121777095, -0.0125625655, 0.05787564, 0.0171299, 0.044553444, 0.018301137, -0.04325874, 0.011312781, 0.033233624, 0.029389534, -0.0037798446, 0.013629712, 0.07232305, -0.04850943, 0.0026761051, 0.056524947, -0.055390764, -0.014436392, -0.030575778, -0.0024944735, 0.014192165, 0.03489561, 0.038304776, -0.015585696, -0.01744389, 0.008083498, -0.04195811, 0.06892188, 0.043682232, -0.061531898, -0.012884708, -0.014229015, 0.010524921, -0.010051116, 0.0123322485, 0.028270237, 0.07091711, 0.046372738, -0.017552502, -0.019675594, -0.058204766, -0.004663148, -0.009032777, 5.2109106e-05, 0.013346616, 0.02036582, 0.025329126, -0.051190503, -0.021309784, 0.022526639, 0.05025599, -0.019759368, -0.039264046, 0.024526667, 0.05488679, -0.0027220596, 0.014512823, -0.024929674, 0.024321504, 0.046357833, -0.05325035, 0.03268089, -0.04192685, -0.015616066, 0.003889687, 0.011572598, 0.02514744, -0.0042158524, 0.041123122, -0.07885741, -0.017778507, -0.030536491, 0.004493169, 0.04026871, 0.009868989, 0.048952714, 0.010522575, 0.032209944, 0.008518301, 0.011238081, -0.0048389896, 0.0016001408, -0.028752102, 0.022125192, 0.048477136, 0.00473044, 0.033187926, 0.037919756, 0.008310531, -0.038623802, 0.010354344, 0.020008614, 0.0753443, 0.028421097, 0.025044374, -0.11578699, 0.00062954763, -0.043277986, 0.011003295, 0.050472397, 0.009520172, 0.024491115, -0.021044925, 0.0070586526, -0.036663875, 0.03527258, -0.013625098, -0.00013057412, -0.012604608, -0.017277345, -0.026700843, -0.10097165, 0.045246433, -0.011390445, -0.046968266, 0.01538783, -0.0052104127, -0.053072855, 0.04725725, -0.00658206, -0.028401742, -0.011449443, -0.017819572, -0.02750932, 0.003501429, -0.04214737, -0.0304516, 0.011312469, -0.023018409, 0.026541004, -0.0011922991, -0.03902536, -0.07084843, -0.012596095, 0.0151588, 0.053668845, 0.0120686535, -0.049352076, -0.024130438, 0.0216427, 0.03249342, 0.034651943, -0.026040366, 0.0048282067, -0.027159974, 0.018829847, 0.048010476, 0.059141602, -0.03575039, -0.0019398811, 0.021592135, 0.010272162, 0.026674286, 0.00057893386, 0.06168161, -0.021828622, 0.026182458, 0.019987566, -0.014603972, -0.015458237, -0.023991313, -0.02825286, -0.009584482, -0.029482352, 0.14430721, 0.015285333, -0.034647588, -0.0070923907, -0.009321407, -0.025125364, 0.033903953, 0.014228081, -0.019609641, 0.029189862, -0.027145304, 0.057684597, -0.013359161, 0.013430351, 0.051908128, -0.020461004, -0.038279563, 0.0057513057, 0.012183655, 0.058063395, 9.775489e-05, 0.01434389, 0.0055218786, -0.013058338, 0.04053018, -0.059961196, -0.045669444, 0.09792618, -0.024582302, -0.019716159, 0.0066989115, -0.0032145535, 0.0049127713, -0.012520726, -0.0077221645, 0.007595007, 0.023646828, -0.045390215, -0.046128348, 0.028409693, -0.025732858, 0.035802133, -0.018118955, 0.043689452, -0.028713869, 0.038766127, -0.0041279523, 0.0060989507, -0.031107737, -0.0050089867, -0.043375775, -0.0025849391, 0.0068903402, -0.01596846, -0.036991302, 0.008156696, 0.034792036, 0.024835221, 0.00623084, -0.023025142, -0.036281765, 0.015230755, -0.084998816, -0.046931088, -0.029805997, -0.04912431, 0.005496316, 0.042654157, 0.015252119, 0.042306066, -0.031310968, 0.0061396146, 0.014297569, -0.037057973, 0.01516474, 0.045984846, -0.009027262, 0.011820596, 0.012336962, -0.021120442, -0.0043114186, -0.0044484492, -0.013752066, 0.031572722, -0.018664116, 0.0032509742, 0.04422052, -0.038246773, -0.008448756, -0.030704286, -0.040249836, -0.018485822, -0.03138732, 0.013438306, 0.025912171, -0.05511837, -0.012624146, -0.008932358, -0.017615926, 0.058500335, 0.013571276, -0.043382864, 0.00032376873, -0.011369194, -0.06327989, 0.0066311173, -0.03499363, -0.013541146, -0.04016981, -0.0015928446, -0.04794343, 0.00011314866, -0.023368359, 0.0005120114, -0.03763479, 0.032794163, -0.02740933, 0.014637113, 0.02989046, 0.018399019, -0.01799155, -0.046280522, 0.018384235, 0.01911687, 0.00064096367, 0.011715102, -0.045021802, 0.0010468906, -0.05294114, -0.023084173, 0.0139335925, 0.0063222516, 0.022636168, -0.006215968, -0.0159807, 0.06342696, -0.041031566, 0.01592396, 0.044629734, 0.022434657, 0.030715752, 0.019666038, 0.0030864934, 0.0076475954, -0.04157785, -0.07860432, -0.00614256, 0.03700905, -0.016001921, 0.0029921965, 0.037060603, -0.0031172957, 0.05787619, -0.0042054215, -0.016266845, -0.016131584, -0.018050553, 0.038351018, -0.0411274, 0.020624772, 0.05968237, 0.035394896, 0.04044422, -0.010921362, -0.01067106, 0.015348555, 0.010881802, -0.029571693, 0.028274674, 0.0075835283, -0.063990645, 0.05645464, -0.030414835, -0.026779922, -0.03720034, 0.012584071, -0.04252244, -0.0019248506, -0.014615281, 0.05260629, -0.0001992579, -0.03736278, -0.015325873, 0.003731246, 0.062981226, 0.0044654096, 0.001285977, -0.06921348, -0.08684104, -0.07465908, 0.018798318, -0.010213586, 0.035547473, 0.027244952, 0.059557416, 0.04790098, 0.024442477, -0.07474711, -0.0007591554, 0.014311632, -0.015215541, 0.0633195, 0.036953915, 0.039815996, -0.025646491, 0.10212727, 0.08053548, -0.0017728051, -0.0029580905, 0.042726144, 0.008319275, 0.025186932, -0.0136398105, -0.026650881, -0.033510894, -0.01371003, 0.03132476, -0.016706942, 0.042739086, 0.025683483, 0.013665167, -0.041880514, -0.04951725, 0.023198718, -0.078542516, 0.075285986, 0.027523585, 0.00057694875, -0.0028046092, 0.047141053, 0.026082516, 0.011129521, 0.04029617, -0.0071888524, -0.005924952, -0.07444233, -0.026423126, 0.08246643, -0.003557931, 0.018410647, -0.02582464, -0.01931597, -0.031648837, 0.056646787, -0.026076602, -0.027448475, -0.010496114, 0.0014087828, -0.044142064, 0.012041885, -0.050235927, 0.02341286, -0.04084653, 0.010575692, 0.07917579, -0.033568054, 0.059629407, 0.023964206, 0.032863557, -0.011749328, -0.0028720803, 0.00668545, 0.00010671018, -0.03422448, -0.012422781, 0.037049767, 0.037120797, 0.014312187, 0.06869253, 0.047948524, 0.02392339, -0.036257595, -0.034287654, -0.010228613, 0.009243673, 0.03912489, -0.008078448, -0.013671507, -0.00057468796, -0.046562336, -0.060856204, 0.028534746, 0.009597925, 0.01338002, -0.021275962, 0.024046583, -0.0028036598, -0.044294123, 0.032484297, -0.013556931, -0.008580883, 0.002197663, -0.0279867, -0.0155985495, 0.009133364, -0.043008614, 0.026368322, -0.021026827, -0.012451523, 0.00201102, -0.009857759, 0.0024864238, 0.057304684, 9.802006e-05, -0.027459284, 0.0060818586, -0.05884584, -0.012928991, 0.04946481, 0.0009992176, 0.0107580125, -1.06873995e-05, 0.058643334, 0.11708499, 0.0068700328, 0.016364196, 0.0154908495, 0.0101900995, 0.0055685323, 0.00043969124, -0.077747755, -0.039511733, -0.03833709]\n"
     ]
    }
   ],
   "source": [
    "#test ollama embeddings\n",
    "embedding_model = OllamaEmbeddings(model=\"nomic-embed-text\")\n",
    "test_embedding = embedding_model.embed_query(\"Test query\")\n",
    "print(test_embedding)"
   ]
  },
  {
   "cell_type": "markdown",
   "metadata": {},
   "source": [
    "## Create vector database"
   ]
  },
  {
   "cell_type": "code",
   "execution_count": 5,
   "metadata": {},
   "outputs": [
    {
     "name": "stdout",
     "output_type": "stream",
     "text": [
      "Vector database created successfully\n"
     ]
    }
   ],
   "source": [
    "#Create vector database\n",
    "#this will create and store the vector embeddings\n",
    "vector_db = Chroma.from_documents(\n",
    "    documents=chunks,\n",
    "    embedding=OllamaEmbeddings(model=\"nomic-embed-text\"),\n",
    "    collection_name=\"local-rag\" \n",
    ")\n",
    "print(\"Vector database created successfully\")"
   ]
  },
  {
   "cell_type": "markdown",
   "metadata": {},
   "source": [
    "## Set up LLM and Retrieval\n",
    "#### 1. I setup the LLM using the llama2 model. \n",
    "#### 2. Langchain also has a chat model designed for ollama. "
   ]
  },
  {
   "cell_type": "code",
   "execution_count": 6,
   "metadata": {},
   "outputs": [],
   "source": [
    "#Set up local LLM model and retrieval\n",
    "local_model = \"llama2\"  \n",
    "#ollama chat model from langchain\n",
    "llm = ChatOllama(model=local_model)"
   ]
  },
  {
   "cell_type": "code",
   "execution_count": 7,
   "metadata": {},
   "outputs": [],
   "source": [
    "#Query prompt template\n",
    "#Define the role of the AI\n",
    "QUERY_PROMPT = PromptTemplate(\n",
    "    input_variables=[\"question\"],\n",
    "    template=\"\"\"You are an AI language model assistant. Your task is to generate 2\n",
    "    different versions of the given user question to retrieve relevant documents from\n",
    "    a vector database. By generating multiple perspectives on the user question, your\n",
    "    goal is to help the user overcome some of the limitations of the distance-based\n",
    "    similarity search. Provide these alternative questions separated by newlines.\n",
    "    Original question: {question}\"\"\",\n",
    ")\n",
    "\n",
    "#Set up retriever\n",
    "retriever = MultiQueryRetriever.from_llm(\n",
    "    vector_db.as_retriever(), \n",
    "    llm,\n",
    "    prompt=QUERY_PROMPT\n",
    ")"
   ]
  },
  {
   "cell_type": "code",
   "execution_count": 8,
   "metadata": {},
   "outputs": [
    {
     "name": "stdout",
     "output_type": "stream",
     "text": [
      "Vector DB retriever: tags=['Chroma', 'OllamaEmbeddings'] vectorstore=<langchain_community.vectorstores.chroma.Chroma object at 0x0000019E1EC9B8F0> search_kwargs={}\n",
      "Retriever: retriever=VectorStoreRetriever(tags=['Chroma', 'OllamaEmbeddings'], vectorstore=<langchain_community.vectorstores.chroma.Chroma object at 0x0000019E1EC9B8F0>, search_kwargs={}) llm_chain=PromptTemplate(input_variables=['question'], input_types={}, partial_variables={}, template='You are an AI language model assistant. Your task is to generate 2\\n    different versions of the given user question to retrieve relevant documents from\\n    a vector database. By generating multiple perspectives on the user question, your\\n    goal is to help the user overcome some of the limitations of the distance-based\\n    similarity search. Provide these alternative questions separated by newlines.\\n    Original question: {question}')\n",
      "| ChatOllama(model='llama2')\n",
      "| LineListOutputParser()\n"
     ]
    }
   ],
   "source": [
    "#verify vector_Db and retriever\n",
    "print(f\"Vector DB retriever: {vector_db.as_retriever()}\")\n",
    "print(f\"Retriever: {retriever}\")"
   ]
  },
  {
   "cell_type": "markdown",
   "metadata": {},
   "source": [
    "## Create chain"
   ]
  },
  {
   "cell_type": "code",
   "execution_count": 9,
   "metadata": {},
   "outputs": [],
   "source": [
    "#Provide context\n",
    "#RAG prompt template\n",
    "template = \"\"\"Answer the question based ONLY on the following context:\n",
    "{context}\n",
    "Question: {question}\n",
    "\"\"\"\n",
    "prompt = ChatPromptTemplate.from_template(template)"
   ]
  },
  {
   "cell_type": "code",
   "execution_count": 10,
   "metadata": {},
   "outputs": [],
   "source": [
    "#Create chain\n",
    "chain = (\n",
    "    {\"context\": retriever, \"question\": RunnablePassthrough()}\n",
    "    | prompt\n",
    "    | llm\n",
    "    | StrOutputParser()\n",
    ")"
   ]
  },
  {
   "cell_type": "markdown",
   "metadata": {},
   "source": [
    "## Chat with PDF"
   ]
  },
  {
   "cell_type": "code",
   "execution_count": 11,
   "metadata": {},
   "outputs": [],
   "source": [
    "#the responses will be displayed using markdown\n",
    "def chat_with_pdf(question):\n",
    "    \"\"\"\n",
    "    Chat with the PDF using the RAG chain.\n",
    "    \"\"\"\n",
    "    return display(Markdown(chain.invoke(question)))"
   ]
  },
  {
   "cell_type": "code",
   "execution_count": 12,
   "metadata": {},
   "outputs": [
    {
     "data": {
      "text/markdown": [
       "The main idea of this PDF document appears to be the introduction and explanation of a new neural network architecture called the Transformer, which is designed specifically for sequence-to-sequence tasks such as machine translation. The document provides a detailed overview of the Transformer's components, including self-attention mechanisms, multi-head attention, and position-wise feedforward networks. It also discusses the advantages of the Transformer over traditional recurrent neural network (RNN) architectures, including its ability to parallelize computation across input sequences and its efficiency in handling long-distance dependencies. Additionally, the document includes figures and examples to illustrate the attention mechanism's ability to follow long-distance dependencies and resolve anaphora."
      ],
      "text/plain": [
       "<IPython.core.display.Markdown object>"
      ]
     },
     "metadata": {},
     "output_type": "display_data"
    }
   ],
   "source": [
    "# Example 1\n",
    "chat_with_pdf(\"What is the main idea of this PDF document?\")"
   ]
  },
  {
   "cell_type": "code",
   "execution_count": 12,
   "metadata": {},
   "outputs": [
    {
     "data": {
      "text/markdown": [
       "Certainly! A Transformer is a type of neural network architecture that is specifically designed for sequence modeling and transduction tasks, such as language modeling and machine translation. It was introduced in a research paper titled \"Attention is All You Need\" by Vaswani et al. in 2017.\n",
       "\n",
       "The Transformer model is based solely on attention mechanisms, dispensing with recurrence and convolutions entirely. It consists of an encoder and a decoder, each comprised of multiple identical layers, where each layer exhibits self-attention and feed-forward processing. The self-attention mechanism allows the model to attend to different parts of the input sequence simultaneously and weigh their importance when computing the output.\n",
       "\n",
       "The Transformer has several key advantages over traditional recurrent neural network (RNN) architectures:\n",
       "\n",
       "1. Parallelization: The self-attention mechanism allows for parallelization, making it much faster and more scalable than RNNs.\n",
       "2. Efficiency: The Transformer requires fewer parameters and computations compared to RNNs, making it more efficient in terms of both training time and memory usage.\n",
       "3. Flexibility: The Transformer can handle input sequences of arbitrary length, without the need for segmentation or padding, which is a common challenge in sequence modeling tasks.\n",
       "4. Quality: The Transformer has been shown to achieve state-of-the-art results in various sequence modeling tasks, such as language modeling and machine translation.\n",
       "\n",
       "In summary, the Transformer is a powerful neural network architecture that leverages self-attention mechanisms to efficiently process sequential data, making it particularly well-suited for natural language processing tasks."
      ],
      "text/plain": [
       "<IPython.core.display.Markdown object>"
      ]
     },
     "metadata": {},
     "output_type": "display_data"
    }
   ],
   "source": [
    "#Example 2\n",
    "chat_with_pdf(\"Can you tell me what a Transformer is?\")"
   ]
  },
  {
   "cell_type": "code",
   "execution_count": 13,
   "metadata": {},
   "outputs": [
    {
     "data": {
      "text/markdown": [
       "Multihead attention is a mechanism introduced in the Transformer model (a popular deep learning architecture for natural language processing tasks) that allows the model to jointly attend to information from different representation subspaces at different positions.\n",
       "\n",
       "In traditional attention mechanisms, a single attention function is applied to the query, keys, and values, and the output is computed as a weighted sum of these vectors. However, this can lead to the \"attention collapse\" problem, where the model only focuses on a limited subset of the input sequence and neglects the rest.\n",
       "\n",
       "To address this issue, Multihead attention introduces multiple attention functions (or heads) that operate in parallel, each with its own set of weights. The outputs of these heads are then combined to form the final output. This allows the model to capture different aspects of the input sequence simultaneously and avoid the collapse problem.\n",
       "\n",
       "Formally, given a query q and a set of keys k, Multihead attention computes the output o as follows:\n",
       "\n",
       "o = Concat(h1, ..., hh) * W^O\n",
       "\n",
       "where h1, ..., hh are the outputs of the multiple attention heads, and W^O is a learnable weight matrix. The Concatenation operator (Concat) combines the outputs of the different heads without any additional processing.\n",
       "\n",
       "Multihead attention allows the model to capture different contextual relationships in the input sequence, leading to better performance in tasks such as machine translation, question answering, and text classification."
      ],
      "text/plain": [
       "<IPython.core.display.Markdown object>"
      ]
     },
     "metadata": {},
     "output_type": "display_data"
    }
   ],
   "source": [
    "#Example 3\n",
    "chat_with_pdf(\"Explain to me what Multihead attention is?\")"
   ]
  },
  {
   "cell_type": "code",
   "execution_count": 15,
   "metadata": {},
   "outputs": [
    {
     "data": {
      "text/markdown": [
       "The paper \"Attention Is All You Need\" by Ashish Vaswani et al. (2017) introduced a new neural network architecture for machine translation called the Transformer model, which relies entirely on self-attention mechanisms instead of traditional recurrent neural networks (RNNs) or convolutional neural networks (CNNs). The Transformer model achieved state-of-the-art results in machine translation tasks, outperforming other state-of-the-art models of the time.\n",
       "\n",
       "Specifically, the paper reported the following results:\n",
       "\n",
       "1. The Transformer model achieved a BLEU score of 28.7 on the English-German translation task, which was a significant improvement over the previous state-of-the-art score of 25.3.\n",
       "2. The Transformer model also achieved a ROUGE score of 40.6 on the English-French translation task, which was an improvement over the previous state-of-the-art score of 37.\n",
       "3. The Transformer model was able to handle long-range dependencies in the input sequence more effectively than other models, as demonstrated by its performance on the WMT17 machine translation competition.\n",
       "4. The Transformer model required significantly fewer parameters than other state-of-the-art models, which made it more computationally efficient and easier to train.\n",
       "\n",
       "Overall, the results of the paper demonstrated the effectiveness of the Transformer model in machine translation tasks and its ability to handle long-range dependencies in input sequences. The Transformer model has since become a widely-used architecture in natural language processing tasks."
      ],
      "text/plain": [
       "<IPython.core.display.Markdown object>"
      ]
     },
     "metadata": {},
     "output_type": "display_data"
    }
   ],
   "source": [
    "#Example 4\n",
    "chat_with_pdf(\"What were the results of this paper?\")"
   ]
  },
  {
   "cell_type": "code",
   "execution_count": 14,
   "metadata": {},
   "outputs": [
    {
     "data": {
      "text/markdown": [
       "According to the paper, the Adam optimizer was used during training. Specifically, the authors used the Adam optimizer with the following parameters:\n",
       "\n",
       "* β1 = 0.9\n",
       "* β2 = 0.98\n",
       "* ε = 10^-9\n",
       "\n",
       "They also varied the learning rate over time according to a specific formula, which is mentioned in the paper."
      ],
      "text/plain": [
       "<IPython.core.display.Markdown object>"
      ]
     },
     "metadata": {},
     "output_type": "display_data"
    }
   ],
   "source": [
    "#Example 5\n",
    "chat_with_pdf(\"What optimizer was used during training?\")"
   ]
  },
  {
   "cell_type": "code",
   "execution_count": null,
   "metadata": {},
   "outputs": [],
   "source": [
    "#example 6\n",
    "#enter any question"
   ]
  },
  {
   "cell_type": "markdown",
   "metadata": {},
   "source": [
    "## Clean up (optional)"
   ]
  },
  {
   "cell_type": "code",
   "execution_count": 16,
   "metadata": {},
   "outputs": [
    {
     "name": "stdout",
     "output_type": "stream",
     "text": [
      "Vector database deleted successfully\n"
     ]
    }
   ],
   "source": [
    "#Optional: Clean up the vector database when done \n",
    "vector_db.delete_collection()\n",
    "print(\"Vector database deleted successfully\")"
   ]
  }
 ],
 "metadata": {
  "kernelspec": {
   "display_name": "venv",
   "language": "python",
   "name": "python3"
  },
  "language_info": {
   "codemirror_mode": {
    "name": "ipython",
    "version": 3
   },
   "file_extension": ".py",
   "mimetype": "text/x-python",
   "name": "python",
   "nbconvert_exporter": "python",
   "pygments_lexer": "ipython3",
   "version": "3.12.6"
  }
 },
 "nbformat": 4,
 "nbformat_minor": 2
}
